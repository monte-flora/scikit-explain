{
 "cells": [
  {
   "cell_type": "markdown",
   "id": "8b110c43",
   "metadata": {},
   "source": [
    "# ExplainToolkit\n",
    "\n",
    "`ExplainToolkit` is the main interface of `scikit-explain`. After initializing `ExplainToolkit` with an estimator and some data, all the explainability methods and their respective plotting modules are called from `ExplainToolkit`. \n",
    "To initialize `ExplainToolkit` requires: \n",
    "\n",
    "* `estimators`, a tuple of (estimator name, pre-fit estimator object) (or list thereof).\n",
    "* `X` and `y` (to evaluate the model on)\n",
    "    * Can be `pandas.DataFrame` or `numpy.array`. If you use an `numpy.array`, then you must provide the feature names (`'feature_names'`)."
   ]
  },
  {
   "cell_type": "code",
   "execution_count": 3,
   "id": "4e2d608d",
   "metadata": {},
   "outputs": [],
   "source": [
    "import sys, os \n",
    "sys.path.insert(0, os.path.dirname(os.getcwd()))\n",
    "import skexplain"
   ]
  },
  {
   "cell_type": "code",
   "execution_count": 4,
   "id": "82f01ece",
   "metadata": {},
   "outputs": [
    {
     "name": "stdout",
     "output_type": "stream",
     "text": [
      "[('Random Forest', RandomForestClassifier(min_samples_leaf=5, n_estimators=200, n_jobs=5)), ('Gradient Boosting', GradientBoostingClassifier()), ('Logistic Regression', LogisticRegression(C=1))]\n",
      "X Shape : (100000, 30)\n",
      "y Skew : 39.173%\n"
     ]
    }
   ],
   "source": [
    "estimators = skexplain.load_models()\n",
    "X,y = skexplain.load_data()\n",
    "\n",
    "print(estimators)\n",
    "print(f'X Shape : {X.shape}')\n",
    "print(f'y Skew : {y.mean()*100}%')"
   ]
  },
  {
   "cell_type": "code",
   "execution_count": 5,
   "id": "5b90daa7",
   "metadata": {},
   "outputs": [],
   "source": [
    "explainer = skexplain.ExplainToolkit(estimators=estimators, X=X, y=y,)"
   ]
  }
 ],
 "metadata": {
  "kernelspec": {
   "display_name": "Python 3 (ipykernel)",
   "language": "python",
   "name": "python3"
  },
  "language_info": {
   "codemirror_mode": {
    "name": "ipython",
    "version": 3
   },
   "file_extension": ".py",
   "mimetype": "text/x-python",
   "name": "python",
   "nbconvert_exporter": "python",
   "pygments_lexer": "ipython3",
   "version": "3.8.13"
  }
 },
 "nbformat": 4,
 "nbformat_minor": 5
}
